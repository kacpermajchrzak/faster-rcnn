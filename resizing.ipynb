{
 "cells": [
  {
   "cell_type": "code",
   "execution_count": 1,
   "id": "initial_id",
   "metadata": {
    "ExecuteTime": {
     "end_time": "2024-06-19T10:26:56.543037Z",
     "start_time": "2024-06-19T10:26:56.269136Z"
    },
    "collapsed": true
   },
   "outputs": [],
   "source": [
    "import cv2\n",
    "import os\n",
    "import pandas as pd"
   ]
  },
  {
   "cell_type": "markdown",
   "id": "769e83bf3cd67c18",
   "metadata": {},
   "source": [
    "# Resizing images\n",
    "\n",
    "We resize images not to be too large for the model to handle. It is also useful as we use the size 640x480 for the model, so we do not need to resize the dataset each time we load it."
   ]
  },
  {
   "cell_type": "code",
   "execution_count": 2,
   "id": "7fe1ad43e7d3389d",
   "metadata": {
    "ExecuteTime": {
     "end_time": "2024-06-19T10:26:56.549596Z",
     "start_time": "2024-06-19T10:26:56.544099Z"
    }
   },
   "outputs": [],
   "source": [
    "df = pd.read_csv(\"test_annotation.txt\", header=None, names=[\"filename\", \"xmin\", \"ymin\", \"xmax\", \"ymax\", \"class\"])"
   ]
  },
  {
   "cell_type": "code",
   "execution_count": 3,
   "id": "460919ffe71fc7f6",
   "metadata": {
    "ExecuteTime": {
     "end_time": "2024-06-19T10:26:56.553409Z",
     "start_time": "2024-06-19T10:26:56.550495Z"
    }
   },
   "outputs": [],
   "source": [
    "df = df[df[\"class\"].isin([\"Rocket\", \"Potato\"])]"
   ]
  },
  {
   "cell_type": "code",
   "execution_count": 4,
   "id": "5c1317ad7212699c",
   "metadata": {
    "ExecuteTime": {
     "end_time": "2024-06-19T10:26:59.718159Z",
     "start_time": "2024-06-19T10:26:56.554601Z"
    }
   },
   "outputs": [
    {
     "name": "stderr",
     "output_type": "stream",
     "text": [
      "285it [00:03, 90.60it/s] \n"
     ]
    }
   ],
   "source": [
    "from pathlib import Path\n",
    "from tqdm import tqdm\n",
    "\n",
    "H, W = 480, 640\n",
    "\n",
    "resized = Path(\"resized\")\n",
    "resized.mkdir(exist_ok=True, parents=True)\n",
    "(resized / \"train\").mkdir(exist_ok=True, parents=True)\n",
    "(resized / \"test\").mkdir(exist_ok=True, parents=True)\n",
    "\n",
    "for idx, row in tqdm(df.iterrows()):\n",
    "    if not Path(row['filename']).exists():\n",
    "        df.drop(idx, inplace=True)\n",
    "        continue\n",
    "    img = cv2.imread(row['filename'])\n",
    "    img_h, img_w = img.shape[:2]\n",
    "    img = cv2.resize(img, (W, H))\n",
    "    df.loc[idx, 'xmin'] = int(row['xmin'] * W / img_w)\n",
    "    df.loc[idx, 'ymin'] = int(row['ymin'] * H / img_h)\n",
    "    df.loc[idx, 'xmax'] = int(row['xmax'] * W / img_w)\n",
    "    df.loc[idx, 'ymax'] = int(row['ymax'] * H / img_h)\n",
    "    cv2.imwrite(os.path.join(\"resized\", row['filename']), img)"
   ]
  },
  {
   "cell_type": "code",
   "execution_count": 5,
   "id": "dc02453bf0d0893f",
   "metadata": {
    "ExecuteTime": {
     "end_time": "2024-06-19T10:26:59.727237Z",
     "start_time": "2024-06-19T10:26:59.718909Z"
    }
   },
   "outputs": [],
   "source": [
    "df.to_csv(\"resized/test_annotation.txt\", header=False, index=False)"
   ]
  }
 ],
 "metadata": {
  "kernelspec": {
   "display_name": "Python 3",
   "language": "python",
   "name": "python3"
  },
  "language_info": {
   "codemirror_mode": {
    "name": "ipython",
    "version": 2
   },
   "file_extension": ".py",
   "mimetype": "text/x-python",
   "name": "python",
   "nbconvert_exporter": "python",
   "pygments_lexer": "ipython2",
   "version": "2.7.6"
  }
 },
 "nbformat": 4,
 "nbformat_minor": 5
}
